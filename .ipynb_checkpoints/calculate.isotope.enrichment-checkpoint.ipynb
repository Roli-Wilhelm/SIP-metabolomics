{
 "cells": [
  {
   "cell_type": "code",
   "execution_count": null,
   "metadata": {},
   "outputs": [],
   "source": [
    "%matplotlib notebook\n",
    "import dill\n",
    "import pandas as pd\n",
    "import matplotlib.pyplot as plt\n",
    "import os\n",
    "import re\n",
    "import pickle\n",
    "import glob"
   ]
  },
  {
   "cell_type": "markdown",
   "metadata": {},
   "source": [
    "## User Input"
   ]
  },
  {
   "cell_type": "code",
   "execution_count": null,
   "metadata": {},
   "outputs": [],
   "source": [
    "## Select whether to use the output from positive or negative ion mode\n",
    "dataset = 'Negative'  # \"Postive\" | \"Negative\"  [default: \"Negative\"]"
   ]
  },
  {
   "cell_type": "markdown",
   "metadata": {},
   "source": [
    "## Import and Preprocess Data"
   ]
  },
  {
   "cell_type": "code",
   "execution_count": null,
   "metadata": {},
   "outputs": [],
   "source": [
    "# Import pickled dictionary of all data\n",
    "if dataset == \"Positive\":\n",
    "    inputfile = \"/home/roli/DOE_Project/fullcyc/metabolomics/raw/positive_mode_isotope_data.pkl\"\n",
    "else:\n",
    "    inputfile = \"/home/roli/DOE_Project/fullcyc/metabolomics/raw/negative_mode_isotope_data.pkl\"\n",
    "\n",
    "with open(inputfile,'rb') as fid:\n",
    "    data = dill.load(fid)"
   ]
  },
  {
   "cell_type": "code",
   "execution_count": null,
   "metadata": {},
   "outputs": [],
   "source": [
    "# Return dictionary to pandas object format\n",
    "for i,d in enumerate(data):   \n",
    "    rt_peak = pd.DataFrame(data[i]['rt_peak'])\n",
    "    rt_peak = rt_peak.rename(columns={col: col.replace('20171221_TS_DB_fullcyc_QE144_50454-738379_','') for col in rt_peak.columns})   \n",
    "    data[i]['rt_peak'] = rt_peak\n",
    "    \n",
    "    peak_height = pd.DataFrame(data[i]['peak_height'])\n",
    "    peak_height = peak_height.rename(columns={col: col.replace('20171221_TS_DB_fullcyc_QE144_50454-738379_','') for col in peak_height.columns})   \n",
    "    data[i]['peak_height'] = peak_height   "
   ]
  },
  {
   "cell_type": "markdown",
   "metadata": {},
   "source": [
    "## Overview of Data Structure"
   ]
  },
  {
   "cell_type": "code",
   "execution_count": null,
   "metadata": {},
   "outputs": [],
   "source": [
    "# Data object is comprised of \n",
    "data[cpd_id].keys()"
   ]
  },
  {
   "cell_type": "code",
   "execution_count": null,
   "metadata": {},
   "outputs": [],
   "source": [
    "# List of identified metabolites\n",
    "[(i,d['compound']) for i,d in enumerate(data)]"
   ]
  },
  {
   "cell_type": "code",
   "execution_count": null,
   "metadata": {},
   "outputs": [],
   "source": [
    "# Total number of metabolites\n",
    "len(data)"
   ]
  },
  {
   "cell_type": "markdown",
   "metadata": {},
   "source": [
    "## Example of Data Associated with a Single Metabolite"
   ]
  },
  {
   "cell_type": "code",
   "execution_count": null,
   "metadata": {},
   "outputs": [],
   "source": [
    "cpd_id = 31"
   ]
  },
  {
   "cell_type": "code",
   "execution_count": null,
   "metadata": {},
   "outputs": [],
   "source": [
    "data[cpd_id]['compound']"
   ]
  },
  {
   "cell_type": "code",
   "execution_count": null,
   "metadata": {},
   "outputs": [],
   "source": [
    "data[cpd_id][\"peak_height\"]"
   ]
  },
  {
   "cell_type": "markdown",
   "metadata": {},
   "source": [
    "## Fork: Output to Data to R for More Flexible Processing"
   ]
  },
  {
   "cell_type": "code",
   "execution_count": null,
   "metadata": {},
   "outputs": [],
   "source": [
    "if not os.path.isdir(\"tsv_output\"):\n",
    "    os.mkdir(\"tsv_output\")\n",
    "    \n",
    "for n in range(0,len(data)):\n",
    "    compound = re.sub(\"_\",\".\",data[n]['compound'])\n",
    "    \n",
    "    data[n][\"peak_height\"].to_csv(\"./tsv_output/\"+compound+\".\"+dataset+\".tsv\", sep='\\t')"
   ]
  },
  {
   "cell_type": "markdown",
   "metadata": {},
   "source": [
    "## Compute Difference between Labeled and Control"
   ]
  },
  {
   "cell_type": "code",
   "execution_count": null,
   "metadata": {},
   "outputs": [],
   "source": [
    "# Treatments are Day + Label\n",
    "treatments = list(set(['_'.join(c.split('_')[7:9]) for c in data[cpd_id]['peak_height'].columns if 'D48' in c]))"
   ]
  },
  {
   "cell_type": "code",
   "execution_count": null,
   "metadata": {},
   "outputs": [],
   "source": [
    "time_points = []\n",
    "for c in data[cpd_id]['peak_height'].columns:\n",
    "    try:\n",
    "        found = re.search('_D\\d+_', c).group()\n",
    "        time_points.append(found.strip('_'))\n",
    "    except AttributeError:\n",
    "        pass\n",
    "time_points = list(set(time_points))\n",
    "time_points"
   ]
  },
  {
   "cell_type": "markdown",
   "metadata": {},
   "source": [
    "## Identify 12C Control"
   ]
  },
  {
   "cell_type": "code",
   "execution_count": null,
   "metadata": {},
   "outputs": [],
   "source": [
    "groups = list(set(['_'.join(c.split('_')[7:10]) for c in data[cpd_id]['peak_height'].columns if 'D48' in c]))"
   ]
  },
  {
   "cell_type": "markdown",
   "metadata": {},
   "source": [
    "## Subtract Control from Labeled"
   ]
  },
  {
   "cell_type": "code",
   "execution_count": null,
   "metadata": {},
   "outputs": [],
   "source": [
    "peak_height = data[cpd_id]['peak_height']\n",
    "control = peak_height[[c for c in peak_height.columns if groups[0] in c]].mean(axis=1)\n",
    "labeled = peak_height[[c for c in peak_height.columns if groups[2] in c]].mean(axis=1)"
   ]
  },
  {
   "cell_type": "code",
   "execution_count": null,
   "metadata": {},
   "outputs": [],
   "source": [
    "labeled - control"
   ]
  },
  {
   "cell_type": "code",
   "execution_count": null,
   "metadata": {},
   "outputs": [],
   "source": [
    "diff_data = {}\n",
    "for g in groups:\n",
    "    sub_data = peak_height[[c for c in peak_height.columns if g in c]].mean(axis=1)\n",
    "    diff_data[g] = sub_data\n",
    "df = pd.DataFrame(diff_data)\n",
    "df"
   ]
  },
  {
   "cell_type": "markdown",
   "metadata": {},
   "source": [
    "## Plot the Difference Curve for all Metabolites"
   ]
  },
  {
   "cell_type": "code",
   "execution_count": null,
   "metadata": {
    "scrolled": false
   },
   "outputs": [],
   "source": [
    "plt.ioff()\n",
    "for time_point in time_points:\n",
    "    folder_name = 'isotope_figs'\n",
    "    if not os.path.isdir(folder_name):\n",
    "        os.mkdir(folder_name)\n",
    "    for cpd_id in range(len(data)):\n",
    "        peak_height = data[cpd_id]['peak_height']\n",
    "        diff_data = {}\n",
    "        fig = plt.figure()\n",
    "        ax = fig.gca()\n",
    "        for treatment in treatments:\n",
    "            g = '%s_%s'%(treatment,time_point)\n",
    "            sub_data = peak_height[[c for c in peak_height.columns if g in c]].mean(axis=1)\n",
    "            diff_data[g] = sub_data\n",
    "        df = pd.DataFrame(diff_data)\n",
    "        df.index = [d.replace('p','.') for d in df.index]\n",
    "        df[:-1].plot(kind='bar',ax=ax) #drop the unnecessary last ion\n",
    "        plt.title(data[cpd_id]['compound'],fontsize=18)\n",
    "        ax.set_yscale('log')\n",
    "        plt.ylabel('Peak Height (au)')\n",
    "        plt.xlabel('m/z')\n",
    "        plt.tight_layout()\n",
    "        fig.savefig(os.path.join(folder_name,'%s_%s.pdf'%(data[cpd_id]['compound'],time_point)))\n",
    "        fig.clear()\n",
    "plt.ion()"
   ]
  },
  {
   "cell_type": "code",
   "execution_count": null,
   "metadata": {},
   "outputs": [],
   "source": []
  }
 ],
 "metadata": {
  "kernelspec": {
   "display_name": "Environment (conda_metabolomics)",
   "language": "python",
   "name": "conda_metabolomics"
  },
  "language_info": {
   "codemirror_mode": {
    "name": "ipython",
    "version": 3
   },
   "file_extension": ".py",
   "mimetype": "text/x-python",
   "name": "python",
   "nbconvert_exporter": "python",
   "pygments_lexer": "ipython3",
   "version": "3.6.5"
  }
 },
 "nbformat": 4,
 "nbformat_minor": 2
}
